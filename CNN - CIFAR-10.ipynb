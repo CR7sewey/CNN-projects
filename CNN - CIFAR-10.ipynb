{
 "cells": [
  {
   "cell_type": "markdown",
   "id": "bdf9cb3a-451d-49bf-b750-3f9af6a6abca",
   "metadata": {},
   "source": [
    "# IMPORT DEPENDENCIES"
   ]
  },
  {
   "cell_type": "code",
   "execution_count": 1,
   "id": "9106e08e-0350-430b-9661-e27431806c34",
   "metadata": {},
   "outputs": [],
   "source": [
    "import numpy as np\n",
    "import pandas as pd\n",
    "import matplotlib.pyplot as plt\n",
    "%matplotlib inline"
   ]
  },
  {
   "cell_type": "markdown",
   "id": "72c162dd-41a5-41f5-9fcd-8200a127aabd",
   "metadata": {},
   "source": [
    "# IMPORT DATASET"
   ]
  },
  {
   "cell_type": "code",
   "execution_count": 3,
   "id": "bdb96721-f50d-439c-b8cf-f05db1df1056",
   "metadata": {},
   "outputs": [],
   "source": [
    "from tensorflow.keras.datasets import cifar10"
   ]
  },
  {
   "cell_type": "code",
   "execution_count": 4,
   "id": "62957647-f138-447a-a5eb-cc82d00fd815",
   "metadata": {},
   "outputs": [
    {
     "name": "stdout",
     "output_type": "stream",
     "text": [
      "Downloading data from https://www.cs.toronto.edu/~kriz/cifar-10-python.tar.gz\n",
      "170498071/170498071 [==============================] - 7s 0us/step\n"
     ]
    }
   ],
   "source": [
    "(x_train, y_train), (x_test, y_test) = cifar10.load_data()"
   ]
  },
  {
   "cell_type": "code",
   "execution_count": 6,
   "id": "e5501dc4-a5a9-4d64-927a-8988dc5c9998",
   "metadata": {},
   "outputs": [
    {
     "name": "stdout",
     "output_type": "stream",
     "text": [
      "(50000, 32, 32, 3) (50000, 1) (10000, 32, 32, 3)\n"
     ]
    }
   ],
   "source": [
    "print(x_train.shape,y_train.shape,x_test.shape)"
   ]
  },
  {
   "cell_type": "markdown",
   "id": "19c7bce3-f658-42bf-95ef-0a527a33bbd5",
   "metadata": {},
   "source": [
    "### We have:\n",
    "##### 50,000 training images (32x32)\n",
    "##### 10,000 testing images  (32x32)\n",
    "##### 3 color channels"
   ]
  },
  {
   "cell_type": "code",
   "execution_count": 7,
   "id": "81115627-02ef-4551-8ff0-093de2d3622e",
   "metadata": {},
   "outputs": [
    {
     "data": {
      "text/plain": [
       "array([[[ 59,  62,  63],\n",
       "        [ 43,  46,  45],\n",
       "        [ 50,  48,  43],\n",
       "        ...,\n",
       "        [158, 132, 108],\n",
       "        [152, 125, 102],\n",
       "        [148, 124, 103]],\n",
       "\n",
       "       [[ 16,  20,  20],\n",
       "        [  0,   0,   0],\n",
       "        [ 18,   8,   0],\n",
       "        ...,\n",
       "        [123,  88,  55],\n",
       "        [119,  83,  50],\n",
       "        [122,  87,  57]],\n",
       "\n",
       "       [[ 25,  24,  21],\n",
       "        [ 16,   7,   0],\n",
       "        [ 49,  27,   8],\n",
       "        ...,\n",
       "        [118,  84,  50],\n",
       "        [120,  84,  50],\n",
       "        [109,  73,  42]],\n",
       "\n",
       "       ...,\n",
       "\n",
       "       [[208, 170,  96],\n",
       "        [201, 153,  34],\n",
       "        [198, 161,  26],\n",
       "        ...,\n",
       "        [160, 133,  70],\n",
       "        [ 56,  31,   7],\n",
       "        [ 53,  34,  20]],\n",
       "\n",
       "       [[180, 139,  96],\n",
       "        [173, 123,  42],\n",
       "        [186, 144,  30],\n",
       "        ...,\n",
       "        [184, 148,  94],\n",
       "        [ 97,  62,  34],\n",
       "        [ 83,  53,  34]],\n",
       "\n",
       "       [[177, 144, 116],\n",
       "        [168, 129,  94],\n",
       "        [179, 142,  87],\n",
       "        ...,\n",
       "        [216, 184, 140],\n",
       "        [151, 118,  84],\n",
       "        [123,  92,  72]]], dtype=uint8)"
      ]
     },
     "execution_count": 7,
     "metadata": {},
     "output_type": "execute_result"
    }
   ],
   "source": [
    "x_train[0]"
   ]
  },
  {
   "cell_type": "code",
   "execution_count": 8,
   "id": "77fa155f-76f4-45c0-a291-be70c423da34",
   "metadata": {},
   "outputs": [
    {
     "data": {
      "text/plain": [
       "array([6], dtype=uint8)"
      ]
     },
     "execution_count": 8,
     "metadata": {},
     "output_type": "execute_result"
    }
   ],
   "source": [
    "y_train[0]"
   ]
  },
  {
   "cell_type": "code",
   "execution_count": 12,
   "id": "8db40213-7352-46d8-840b-dcd774006e01",
   "metadata": {},
   "outputs": [
    {
     "data": {
      "text/plain": [
       "<matplotlib.image.AxesImage at 0x22a38647290>"
      ]
     },
     "execution_count": 12,
     "metadata": {},
     "output_type": "execute_result"
    },
    {
     "data": {
      "image/png": "[encoded data removed]",
      "text/plain": [
       "<Figure size 640x480 with 1 Axes>"
      ]
     },
     "metadata": {},
     "output_type": "display_data"
    }
   ],
   "source": [
    "plt.imshow(x_train[12])"
   ]
  },
  {
   "cell_type": "markdown",
   "id": "d8e8e7d8-3bc9-40a1-b0fa-076c8f6831a1",
   "metadata": {},
   "source": [
    "# DATA PRE_PROCESSING"
   ]
  },
  {
   "cell_type": "code",
   "execution_count": 14,
   "id": "d3aadac7-fb02-4780-8ca2-7faf2b3debe6",
   "metadata": {},
   "outputs": [
    {
     "data": {
      "text/plain": [
       "255"
      ]
     },
     "execution_count": 14,
     "metadata": {},
     "output_type": "execute_result"
    }
   ],
   "source": [
    "x_train.max()"
   ]
  },
  {
   "cell_type": "code",
   "execution_count": 15,
   "id": "79f33726-6e56-4bc4-8d7d-1d7e631e5e50",
   "metadata": {},
   "outputs": [
    {
     "data": {
      "text/plain": [
       "0"
      ]
     },
     "execution_count": 15,
     "metadata": {},
     "output_type": "execute_result"
    }
   ],
   "source": [
    "x_train.min()"
   ]
  },
  {
   "cell_type": "code",
   "execution_count": 16,
   "id": "58e3092c-dd43-4e1d-b19d-ab161e48fbd9",
   "metadata": {},
   "outputs": [],
   "source": [
    "x_train, x_test = x_train/255, x_test/255"
   ]
  },
  {
   "cell_type": "code",
   "execution_count": 17,
   "id": "f4805109-5421-417c-83d6-b4943634c80e",
   "metadata": {},
   "outputs": [
    {
     "data": {
      "text/plain": [
       "1.0"
      ]
     },
     "execution_count": 17,
     "metadata": {},
     "output_type": "execute_result"
    }
   ],
   "source": [
    "x_train.max()"
   ]
  },
  {
   "cell_type": "code",
   "execution_count": 19,
   "id": "951169d7-64e6-4855-8218-12db08add221",
   "metadata": {},
   "outputs": [
    {
     "data": {
      "text/plain": [
       "(50000, 32, 32, 3)"
      ]
     },
     "execution_count": 19,
     "metadata": {},
     "output_type": "execute_result"
    }
   ],
   "source": [
    "x_train.shape"
   ]
  },
  {
   "cell_type": "code",
   "execution_count": 20,
   "id": "8d42dff0-5160-4176-b6bb-76d1d027c2a8",
   "metadata": {},
   "outputs": [],
   "source": [
    "from tensorflow.keras.utils import to_categorical\n",
    "y_train, y_test = to_categorical(y_train), to_categorical(y_test)"
   ]
  },
  {
   "cell_type": "code",
   "execution_count": 21,
   "id": "552d7cb8-3de0-4517-9071-49bd2068818e",
   "metadata": {},
   "outputs": [
    {
     "data": {
      "text/plain": [
       "array([[0., 0., 0., ..., 0., 0., 0.],\n",
       "       [0., 0., 0., ..., 0., 0., 1.],\n",
       "       [0., 0., 0., ..., 0., 0., 1.],\n",
       "       ...,\n",
       "       [0., 0., 0., ..., 0., 0., 1.],\n",
       "       [0., 1., 0., ..., 0., 0., 0.],\n",
       "       [0., 1., 0., ..., 0., 0., 0.]], dtype=float32)"
      ]
     },
     "execution_count": 21,
     "metadata": {},
     "output_type": "execute_result"
    }
   ],
   "source": [
    "y_train"
   ]
  },
  {
   "cell_type": "markdown",
   "id": "b27f8715-fc82-4f0c-90c3-2dfc3d57cbc9",
   "metadata": {},
   "source": [
    "# BUILD MODEL"
   ]
  },
  {
   "cell_type": "code",
   "execution_count": 22,
   "id": "724485bd-b3db-4cc9-9926-4e19cf69f033",
   "metadata": {},
   "outputs": [],
   "source": [
    "from tensorflow.keras.callbacks import EarlyStopping\n",
    "from tensorflow.keras.models import Sequential\n",
    "from tensorflow.keras.layers import MaxPool2D, Conv2D, Dense, Flatten, Dropout, BatchNormalization"
   ]
  },
  {
   "cell_type": "code",
   "execution_count": 32,
   "id": "84568282-23ac-492e-9de1-8930d88687b8",
   "metadata": {},
   "outputs": [],
   "source": [
    "model = Sequential()\n",
    "\n",
    "# FIRST CONVOLUTIONAL LAYER\n",
    "model.add(Conv2D(filters=32, kernel_size=(4,4), input_shape=(32,32,3), activation='relu'))#, padding='valid'))\n",
    "\n",
    "# POOLING LAYER\n",
    "model.add(MaxPool2D(pool_size=(2,2)))\n",
    "\n",
    "# Second CONVOLUTIONAL LAYER\n",
    "model.add(Conv2D(filters=32, kernel_size=(3,3), input_shape=(32,32,3), activation='relu'))#, padding='valid'))\n",
    "\n",
    "# POOLING LAYER\n",
    "model.add(MaxPool2D(pool_size=(2,2)))\n",
    "\n",
    "# FLATTEN LAYER - reshape data to ond-dimension vector (28x28 = 764)\n",
    "model.add(Flatten())\n",
    "\n",
    "# DENSE LAYER\n",
    "model.add(Dense(128, activation='relu'))\n",
    "\n",
    "# LAST LAYER -> MULTICLASS PROBLEM - softmac\n",
    "model.add(Dense(10, activation='softmax'))\n",
    "\n",
    "# COMPILER\n",
    "model.compile(loss='categorical_crossentropy', optimizer='rmsprop', metrics=['accuracy'])"
   ]
  },
  {
   "cell_type": "code",
   "execution_count": 33,
   "id": "57dce8ec-6df1-435e-840d-eedd7d63abb6",
   "metadata": {},
   "outputs": [
    {
     "name": "stdout",
     "output_type": "stream",
     "text": [
      "Model: \"sequential_3\"\n",
      "_________________________________________________________________\n",
      " Layer (type)                Output Shape              Param #   \n",
      "=================================================================\n",
      " conv2d_6 (Conv2D)           (None, 29, 29, 32)        1568      \n",
      "                                                                 \n",
      " max_pooling2d_6 (MaxPoolin  (None, 14, 14, 32)        0         \n",
      " g2D)                                                            \n",
      "                                                                 \n",
      " conv2d_7 (Conv2D)           (None, 12, 12, 32)        9248      \n",
      "                                                                 \n",
      " max_pooling2d_7 (MaxPoolin  (None, 6, 6, 32)          0         \n",
      " g2D)                                                            \n",
      "                                                                 \n",
      " flatten_3 (Flatten)         (None, 1152)              0         \n",
      "                                                                 \n",
      " dense_6 (Dense)             (None, 128)               147584    \n",
      "                                                                 \n",
      " dense_7 (Dense)             (None, 10)                1290      \n",
      "                                                                 \n",
      "=================================================================\n",
      "Total params: 159690 (623.79 KB)\n",
      "Trainable params: 159690 (623.79 KB)\n",
      "Non-trainable params: 0 (0.00 Byte)\n",
      "_________________________________________________________________\n"
     ]
    }
   ],
   "source": [
    "model.summary()"
   ]
  },
  {
   "cell_type": "code",
   "execution_count": 34,
   "id": "be828af0-27b6-42a4-914b-27e3decafd03",
   "metadata": {},
   "outputs": [],
   "source": [
    "early_stop = EarlyStopping(monitor='val_loss', patience=3)"
   ]
  },
  {
   "cell_type": "code",
   "execution_count": 35,
   "id": "cfa286ba-813e-487c-8f37-fdc320bf3009",
   "metadata": {},
   "outputs": [
    {
     "name": "stdout",
     "output_type": "stream",
     "text": [
      "Epoch 1/10\n",
      "WARNING:tensorflow:From C:\\Users\\Utilizador\\anaconda3\\Lib\\site-packages\\keras\\src\\utils\\tf_utils.py:492: The name tf.ragged.RaggedTensorValue is deprecated. Please use tf.compat.v1.ragged.RaggedTensorValue instead.\n",
      "\n",
      "WARNING:tensorflow:From C:\\Users\\Utilizador\\anaconda3\\Lib\\site-packages\\keras\\src\\engine\\base_layer_utils.py:384: The name tf.executing_eagerly_outside_functions is deprecated. Please use tf.compat.v1.executing_eagerly_outside_functions instead.\n",
      "\n",
      "1563/1563 [==============================] - 15s 9ms/step - loss: 1.5085 - accuracy: 0.4611 - val_loss: 1.2290 - val_accuracy: 0.5771\n",
      "Epoch 2/10\n",
      "1563/1563 [==============================] - 12s 8ms/step - loss: 1.1274 - accuracy: 0.6070 - val_loss: 1.2074 - val_accuracy: 0.5730\n",
      "Epoch 3/10\n",
      "1563/1563 [==============================] - 12s 8ms/step - loss: 0.9691 - accuracy: 0.6612 - val_loss: 1.0821 - val_accuracy: 0.6273\n",
      "Epoch 4/10\n",
      "1563/1563 [==============================] - 12s 8ms/step - loss: 0.8628 - accuracy: 0.7013 - val_loss: 1.0669 - val_accuracy: 0.6389\n",
      "Epoch 5/10\n",
      "1563/1563 [==============================] - 12s 8ms/step - loss: 0.7818 - accuracy: 0.7284 - val_loss: 0.9924 - val_accuracy: 0.6692\n",
      "Epoch 6/10\n",
      "1563/1563 [==============================] - 12s 8ms/step - loss: 0.7160 - accuracy: 0.7540 - val_loss: 0.9309 - val_accuracy: 0.6938\n",
      "Epoch 7/10\n",
      "1563/1563 [==============================] - 12s 8ms/step - loss: 0.6624 - accuracy: 0.7728 - val_loss: 0.9778 - val_accuracy: 0.6877\n",
      "Epoch 8/10\n",
      "1563/1563 [==============================] - 12s 8ms/step - loss: 0.6156 - accuracy: 0.7892 - val_loss: 0.9782 - val_accuracy: 0.7012\n",
      "Epoch 9/10\n",
      "1563/1563 [==============================] - 12s 8ms/step - loss: 0.5719 - accuracy: 0.8051 - val_loss: 0.9835 - val_accuracy: 0.6901\n"
     ]
    },
    {
     "data": {
      "text/plain": [
       "<keras.src.callbacks.History at 0x22a389ffcd0>"
      ]
     },
     "execution_count": 35,
     "metadata": {},
     "output_type": "execute_result"
    }
   ],
   "source": [
    "model.fit(x_train,y_train, epochs=15, validation_data=(x_test,y_test),callbacks=[early_stop])"
   ]
  },
  {
   "cell_type": "code",
   "execution_count": 54,
   "id": "d5865da2-59ce-47d0-981d-62adbbf68bc6",
   "metadata": {},
   "outputs": [
    {
     "data": {
      "text/plain": [
       "\"\\ndef my_model():\\n  inputs = keras.Input(shape=(32,32,3))\\n  x = layers.Conv2D(32,3, padding='same', kernel_regularizer=regularizers.l2(0.01))(inputs)   #\\n  x = layers.BatchNormalization()(x) # not using activation before bcs of this\\n  x = keras.activations.relu(x)\\n  x = layers.MaxPooling2D((2,2))(x)\\n  x = layers.Conv2D(64,5, padding='same', kernel_regularizer=regularizers.l2(0.01))(x)\\n  x = layers.BatchNormalization()(x) # not using activation before bcs of this\\n  x = keras.activations.relu(x)\\n  x = layers.MaxPooling2D((2,2))(x)\\n  x = layers.Conv2D(128,3, padding='same', kernel_regularizer=regularizers.l2(0.01))(x)\\n  x = layers.BatchNormalization()(x)\\n  x = keras.activations.relu(x)\\n  x = layers.Flatten()(x)\\n  x = layers.Dense(64, activation = 'relu',  kernel_regularizer=regularizers.l2(0.01))(x)\\n  x = layers.Dropout(0.5)(x) # longer to trsin\\n  outputs = layers.Dense(10)(x)\\n  model = keras.Model(inputs=inputs,outputs=outputs)\\n  return model\\n\""
      ]
     },
     "execution_count": 54,
     "metadata": {},
     "output_type": "execute_result"
    }
   ],
   "source": [
    "from tensorflow.python.keras import regularizers\n",
    "from tensorflow.keras.activations import relu\n",
    "\n",
    "model = Sequential()\n",
    "\n",
    "\n",
    "# FIRST CONVOLUTIONAL LAYER\n",
    "model.add(Conv2D(filters=32, kernel_size=(4,4), input_shape=(32,32,3), activation='relu'))#, kernel_regularizer=regularizers.l2(0.01)))#, padding='valid'))\n",
    "\n",
    "#model.add(BatchNormalization())\n",
    "\n",
    "# POOLING LAYER\n",
    "model.add(MaxPool2D(pool_size=(2,2)))\n",
    "\n",
    "# Second CONVOLUTIONAL LAYER\n",
    "model.add(Conv2D(filters=32, kernel_size=(3,3), input_shape=(32,32,3), activation='relu'))#, padding='valid'))\n",
    "\n",
    "# POOLING LAYER\n",
    "model.add(MaxPool2D(pool_size=(2,2)))\n",
    "\n",
    "# FLATTEN LAYER - reshape data to ond-dimension vector (28x28 = 764)\n",
    "model.add(Flatten())\n",
    "\n",
    "# DENSE LAYER\n",
    "model.add(Dense(256, activation='relu'))\n",
    "\n",
    "model.add(Dropout(0.2))\n",
    "\n",
    "# LAST LAYER -> MULTICLASS PROBLEM - softmac\n",
    "model.add(Dense(10, activation='softmax'))\n",
    "\n",
    "# COMPILER\n",
    "model.compile(loss='categorical_crossentropy', optimizer='rmsprop', metrics=['accuracy'])\n",
    "\n",
    "\n",
    "\"\"\"\n",
    "def my_model():\n",
    "  inputs = keras.Input(shape=(32,32,3))\n",
    "  x = layers.Conv2D(32,3, padding='same', kernel_regularizer=regularizers.l2(0.01))(inputs)   #\n",
    "  x = layers.BatchNormalization()(x) # not using activation before bcs of this\n",
    "  x = keras.activations.relu(x)\n",
    "  x = layers.MaxPooling2D((2,2))(x)\n",
    "  x = layers.Conv2D(64,5, padding='same', kernel_regularizer=regularizers.l2(0.01))(x)\n",
    "  x = layers.BatchNormalization()(x) # not using activation before bcs of this\n",
    "  x = keras.activations.relu(x)\n",
    "  x = layers.MaxPooling2D((2,2))(x)\n",
    "  x = layers.Conv2D(128,3, padding='same', kernel_regularizer=regularizers.l2(0.01))(x)\n",
    "  x = layers.BatchNormalization()(x)\n",
    "  x = keras.activations.relu(x)\n",
    "  x = layers.Flatten()(x)\n",
    "  x = layers.Dense(64, activation = 'relu',  kernel_regularizer=regularizers.l2(0.01))(x)\n",
    "  x = layers.Dropout(0.5)(x) # longer to trsin\n",
    "  outputs = layers.Dense(10)(x)\n",
    "  model = keras.Model(inputs=inputs,outputs=outputs)\n",
    "  return model\n",
    "\"\"\"\n"
   ]
  },
  {
   "cell_type": "code",
   "execution_count": 55,
   "id": "68407b1f-c563-4811-9166-7462ac52ac9d",
   "metadata": {},
   "outputs": [
    {
     "name": "stdout",
     "output_type": "stream",
     "text": [
      "Model: \"sequential_8\"\n",
      "_________________________________________________________________\n",
      " Layer (type)                Output Shape              Param #   \n",
      "=================================================================\n",
      " conv2d_14 (Conv2D)          (None, 29, 29, 32)        1568      \n",
      "                                                                 \n",
      " max_pooling2d_12 (MaxPooli  (None, 14, 14, 32)        0         \n",
      " ng2D)                                                           \n",
      "                                                                 \n",
      " conv2d_15 (Conv2D)          (None, 12, 12, 32)        9248      \n",
      "                                                                 \n",
      " max_pooling2d_13 (MaxPooli  (None, 6, 6, 32)          0         \n",
      " ng2D)                                                           \n",
      "                                                                 \n",
      " flatten_6 (Flatten)         (None, 1152)              0         \n",
      "                                                                 \n",
      " dense_12 (Dense)            (None, 256)               295168    \n",
      "                                                                 \n",
      " dropout_2 (Dropout)         (None, 256)               0         \n",
      "                                                                 \n",
      " dense_13 (Dense)            (None, 10)                2570      \n",
      "                                                                 \n",
      "=================================================================\n",
      "Total params: 308554 (1.18 MB)\n",
      "Trainable params: 308554 (1.18 MB)\n",
      "Non-trainable params: 0 (0.00 Byte)\n",
      "_________________________________________________________________\n"
     ]
    }
   ],
   "source": [
    "model.summary()"
   ]
  },
  {
   "cell_type": "code",
   "execution_count": 56,
   "id": "829c4c33-a56f-4c65-9334-d5ebc633b1a1",
   "metadata": {},
   "outputs": [
    {
     "name": "stdout",
     "output_type": "stream",
     "text": [
      "Epoch 1/15\n",
      "1563/1563 [==============================] - 13s 7ms/step - loss: 1.5018 - accuracy: 0.4605 - val_loss: 1.2864 - val_accuracy: 0.5506\n",
      "Epoch 2/15\n",
      "1563/1563 [==============================] - 11s 7ms/step - loss: 1.1494 - accuracy: 0.5977 - val_loss: 1.0791 - val_accuracy: 0.6220\n",
      "Epoch 3/15\n",
      "1563/1563 [==============================] - 11s 7ms/step - loss: 1.0057 - accuracy: 0.6505 - val_loss: 1.1552 - val_accuracy: 0.6114\n",
      "Epoch 4/15\n",
      "1563/1563 [==============================] - 11s 7ms/step - loss: 0.9162 - accuracy: 0.6840 - val_loss: 1.2521 - val_accuracy: 0.5934\n",
      "Epoch 5/15\n",
      "1563/1563 [==============================] - 11s 7ms/step - loss: 0.8535 - accuracy: 0.7087 - val_loss: 0.9536 - val_accuracy: 0.6722\n",
      "Epoch 6/15\n",
      "1563/1563 [==============================] - 11s 7ms/step - loss: 0.8192 - accuracy: 0.7230 - val_loss: 0.9904 - val_accuracy: 0.6736\n",
      "Epoch 7/15\n",
      "1563/1563 [==============================] - 11s 7ms/step - loss: 0.7962 - accuracy: 0.7315 - val_loss: 1.2239 - val_accuracy: 0.6040\n",
      "Epoch 8/15\n",
      "1563/1563 [==============================] - 13s 9ms/step - loss: 0.7860 - accuracy: 0.7406 - val_loss: 1.0763 - val_accuracy: 0.6944\n"
     ]
    },
    {
     "data": {
      "text/plain": [
       "<keras.src.callbacks.History at 0x22abd976a50>"
      ]
     },
     "execution_count": 56,
     "metadata": {},
     "output_type": "execute_result"
    }
   ],
   "source": [
    "model.fit(x_train,y_train, epochs=15, validation_data=(x_test,y_test),callbacks=[early_stop])"
   ]
  },
  {
   "cell_type": "code",
   "execution_count": 57,
   "id": "d2895ea3-4783-4de7-91cf-a3188ea0db3b",
   "metadata": {},
   "outputs": [],
   "source": [
    "metrics = pd.DataFrame(model.history.history)"
   ]
  },
  {
   "cell_type": "code",
   "execution_count": 58,
   "id": "86fccc61-5b43-4e7c-87c0-aad1894319e2",
   "metadata": {},
   "outputs": [
    {
     "data": {
      "text/plain": [
       "<Axes: >"
      ]
     },
     "execution_count": 58,
     "metadata": {},
     "output_type": "execute_result"
    },
    {
     "data": {
      "image/png": "[encoded data removed]",
      "text/plain": [
       "<Figure size 640x480 with 1 Axes>"
      ]
     },
     "metadata": {},
     "output_type": "display_data"
    }
   ],
   "source": [
    "metrics.plot()"
   ]
  },
  {
   "cell_type": "code",
   "execution_count": 59,
   "id": "4a47452c-2b15-4307-ae71-9384ec6751d9",
   "metadata": {},
   "outputs": [
    {
     "data": {
      "text/plain": [
       "Index(['loss', 'accuracy', 'val_loss', 'val_accuracy'], dtype='object')"
      ]
     },
     "execution_count": 59,
     "metadata": {},
     "output_type": "execute_result"
    }
   ],
   "source": [
    "metrics.columns"
   ]
  },
  {
   "cell_type": "code",
   "execution_count": 60,
   "id": "532581f9-5e52-4ff0-8b99-be89186bf0b6",
   "metadata": {},
   "outputs": [
    {
     "data": {
      "text/plain": [
       "<Axes: >"
      ]
     },
     "execution_count": 60,
     "metadata": {},
     "output_type": "execute_result"
    },
    {
     "data": {
      "image/png": "[encoded data removed]",
      "text/plain": [
       "<Figure size 640x480 with 1 Axes>"
      ]
     },
     "metadata": {},
     "output_type": "display_data"
    }
   ],
   "source": [
    "metrics[['accuracy', 'val_accuracy']].plot()"
   ]
  },
  {
   "cell_type": "code",
   "execution_count": 61,
   "id": "8f045ad6-e792-4c25-94d3-cf17551634ed",
   "metadata": {},
   "outputs": [
    {
     "name": "stdout",
     "output_type": "stream",
     "text": [
      "['loss', 'accuracy']\n",
      "[1.076338529586792, 0.6944000124931335]\n"
     ]
    }
   ],
   "source": [
    "print(model.metrics_names)\n",
    "print(model.evaluate(x_test,y_test,verbose=0))"
   ]
  },
  {
   "cell_type": "code",
   "execution_count": 62,
   "id": "d99af573-2795-4257-9376-b983946755a9",
   "metadata": {},
   "outputs": [
    {
     "data": {
      "text/html": [
       "<div>\n",
       "<style scoped>\n",
       "    .dataframe tbody tr th:only-of-type {\n",
       "        vertical-align: middle;\n",
       "    }\n",
       "\n",
       "    .dataframe tbody tr th {\n",
       "        vertical-align: top;\n",
       "    }\n",
       "\n",
       "    .dataframe thead th {\n",
       "        text-align: right;\n",
       "    }\n",
       "</style>\n",
       "<table border=\"1\" class=\"dataframe\">\n",
       "  <thead>\n",
       "    <tr style=\"text-align: right;\">\n",
       "      <th></th>\n",
       "      <th>loss</th>\n",
       "      <th>accuracy</th>\n",
       "      <th>val_loss</th>\n",
       "      <th>val_accuracy</th>\n",
       "    </tr>\n",
       "  </thead>\n",
       "  <tbody>\n",
       "    <tr>\n",
       "      <th>0</th>\n",
       "      <td>1.501828</td>\n",
       "      <td>0.46050</td>\n",
       "      <td>1.286358</td>\n",
       "      <td>0.5506</td>\n",
       "    </tr>\n",
       "    <tr>\n",
       "      <th>1</th>\n",
       "      <td>1.149428</td>\n",
       "      <td>0.59768</td>\n",
       "      <td>1.079057</td>\n",
       "      <td>0.6220</td>\n",
       "    </tr>\n",
       "    <tr>\n",
       "      <th>2</th>\n",
       "      <td>1.005694</td>\n",
       "      <td>0.65046</td>\n",
       "      <td>1.155168</td>\n",
       "      <td>0.6114</td>\n",
       "    </tr>\n",
       "    <tr>\n",
       "      <th>3</th>\n",
       "      <td>0.916166</td>\n",
       "      <td>0.68404</td>\n",
       "      <td>1.252059</td>\n",
       "      <td>0.5934</td>\n",
       "    </tr>\n",
       "    <tr>\n",
       "      <th>4</th>\n",
       "      <td>0.853481</td>\n",
       "      <td>0.70868</td>\n",
       "      <td>0.953553</td>\n",
       "      <td>0.6722</td>\n",
       "    </tr>\n",
       "    <tr>\n",
       "      <th>5</th>\n",
       "      <td>0.819232</td>\n",
       "      <td>0.72304</td>\n",
       "      <td>0.990382</td>\n",
       "      <td>0.6736</td>\n",
       "    </tr>\n",
       "    <tr>\n",
       "      <th>6</th>\n",
       "      <td>0.796212</td>\n",
       "      <td>0.73150</td>\n",
       "      <td>1.223896</td>\n",
       "      <td>0.6040</td>\n",
       "    </tr>\n",
       "    <tr>\n",
       "      <th>7</th>\n",
       "      <td>0.786001</td>\n",
       "      <td>0.74060</td>\n",
       "      <td>1.076339</td>\n",
       "      <td>0.6944</td>\n",
       "    </tr>\n",
       "  </tbody>\n",
       "</table>\n",
       "</div>"
      ],
      "text/plain": [
       "       loss  accuracy  val_loss  val_accuracy\n",
       "0  1.501828   0.46050  1.286358        0.5506\n",
       "1  1.149428   0.59768  1.079057        0.6220\n",
       "2  1.005694   0.65046  1.155168        0.6114\n",
       "3  0.916166   0.68404  1.252059        0.5934\n",
       "4  0.853481   0.70868  0.953553        0.6722\n",
       "5  0.819232   0.72304  0.990382        0.6736\n",
       "6  0.796212   0.73150  1.223896        0.6040\n",
       "7  0.786001   0.74060  1.076339        0.6944"
      ]
     },
     "execution_count": 62,
     "metadata": {},
     "output_type": "execute_result"
    }
   ],
   "source": [
    "metrics"
   ]
  },
  {
   "cell_type": "code",
   "execution_count": 63,
   "id": "ae9e006c-dd25-429a-8f6d-c7f211515622",
   "metadata": {},
   "outputs": [],
   "source": [
    "def highlight_max_elements(matrix):\n",
    "    # Converte a lista para um array NumPy, caso ainda não seja\n",
    "    matrix = np.array(matrix)\n",
    "    \n",
    "    # Inicializa um array de zeros com a mesma forma da matriz original\n",
    "    result = np.zeros_like(matrix)\n",
    "    \n",
    "    # Itera sobre cada sub-array (linha) da matriz\n",
    "    for i, row in enumerate(matrix):\n",
    "        # Encontra o índice do maior elemento na linha atual\n",
    "        max_index = np.argmax(row)\n",
    "        # Define o maior elemento como 1 no array de resultado\n",
    "        result[i, max_index] = 1\n",
    "    \n",
    "    return result  "
   ]
  },
  {
   "cell_type": "code",
   "execution_count": 64,
   "id": "a2cabc5c-290c-4b6e-b279-eded737aa4d3",
   "metadata": {},
   "outputs": [
    {
     "name": "stdout",
     "output_type": "stream",
     "text": [
      "313/313 [==============================] - 1s 4ms/step\n"
     ]
    }
   ],
   "source": [
    "from sklearn.metrics import classification_report,confusion_matrix\n",
    "\n",
    "predictions = model.predict(x_test)\n",
    "new_predictions = highlight_max_elements(predictions)"
   ]
  },
  {
   "cell_type": "code",
   "execution_count": 65,
   "id": "cd9f0903-ca07-483d-ba78-766a47a082b9",
   "metadata": {},
   "outputs": [
    {
     "data": {
      "text/plain": [
       "array([[0., 0., 0., ..., 0., 0., 0.],\n",
       "       [0., 0., 0., ..., 0., 1., 0.],\n",
       "       [0., 0., 0., ..., 0., 1., 0.],\n",
       "       ...,\n",
       "       [0., 0., 0., ..., 0., 0., 0.],\n",
       "       [0., 1., 0., ..., 0., 0., 0.],\n",
       "       [0., 0., 0., ..., 1., 0., 0.]], dtype=float32)"
      ]
     },
     "execution_count": 65,
     "metadata": {},
     "output_type": "execute_result"
    }
   ],
   "source": [
    "new_predictions"
   ]
  },
  {
   "cell_type": "code",
   "execution_count": null,
   "id": "d0973ffc-2373-4990-9620-7abbc97c28e0",
   "metadata": {},
   "outputs": [],
   "source": [
    "pr"
   ]
  }
 ],
 "metadata": {
  "kernelspec": {
   "display_name": "Python 3 (ipykernel)",
   "language": "python",
   "name": "python3"
  },
  "language_info": {
   "codemirror_mode": {
    "name": "ipython",
    "version": 3
   },
   "file_extension": ".py",
   "mimetype": "text/x-python",
   "name": "python",
   "nbconvert_exporter": "python",
   "pygments_lexer": "ipython3",
   "version": "3.11.5"
  }
 },
 "nbformat": 4,
 "nbformat_minor": 5
}
